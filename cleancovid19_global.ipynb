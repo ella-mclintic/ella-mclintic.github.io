{
  "nbformat": 4,
  "nbformat_minor": 0,
  "metadata": {
    "colab": {
      "provenance": []
    },
    "kernelspec": {
      "name": "python3",
      "display_name": "Python 3"
    },
    "language_info": {
      "name": "python"
    }
  },
  "cells": [
    {
      "cell_type": "code",
      "source": [
        "import pandas as pd\n",
        "df = pd.read_csv('covid19_deaths.csv')"
      ],
      "metadata": {
        "id": "KPyDAhcWqsi9"
      },
      "execution_count": 5,
      "outputs": []
    },
    {
      "cell_type": "code",
      "execution_count": null,
      "metadata": {
        "id": "cl9kN_fQqnsZ"
      },
      "outputs": [],
      "source": [
        "df.head(10)"
      ]
    },
    {
      "cell_type": "code",
      "source": [
        "df1=df.drop(['Province/State','Lat','Long'], axis=1)\n",
        "df1"
      ],
      "metadata": {
        "id": "IItYq9cdqoZk"
      },
      "execution_count": null,
      "outputs": []
    },
    {
      "cell_type": "code",
      "source": [
        "df2=df1.drop([285],axis=0)"
      ],
      "metadata": {
        "id": "gHk94T3Qqv0q"
      },
      "execution_count": 8,
      "outputs": []
    },
    {
      "cell_type": "code",
      "source": [
        "df3 = df2.set_index('Country/Region').stack().reset_index()\n",
        "df3"
      ],
      "metadata": {
        "id": "lHTUNNavqyQb"
      },
      "execution_count": null,
      "outputs": []
    },
    {
      "cell_type": "code",
      "source": [
        "df4=df3.rename(columns = {'Country/Region':'country'})"
      ],
      "metadata": {
        "id": "F1ZnAqgFtnxj"
      },
      "execution_count": 10,
      "outputs": []
    },
    {
      "cell_type": "code",
      "source": [
        "df5=df4.set_index('country')\n",
        "df5"
      ],
      "metadata": {
        "id": "01kx34hpqzy2"
      },
      "execution_count": null,
      "outputs": []
    },
    {
      "cell_type": "code",
      "source": [
        "df6=df5.rename(columns = {'level_1':'date',0:'value','Country/Region':'country'})\n",
        "df6"
      ],
      "metadata": {
        "id": "UVd6NJAHq2KD"
      },
      "execution_count": null,
      "outputs": []
    },
    {
      "cell_type": "code",
      "source": [
        "df6.to_csv('cleancovid19_deaths.csv')"
      ],
      "metadata": {
        "id": "qbGEJfOeq46q"
      },
      "execution_count": 15,
      "outputs": []
    }
  ]
}